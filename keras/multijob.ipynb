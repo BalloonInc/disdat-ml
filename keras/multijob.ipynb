{
 "cells": [
  {
   "cell_type": "code",
   "execution_count": 3,
   "metadata": {
    "collapsed": false
   },
   "outputs": [],
   "source": [
    "import json\n",
    "import numpy as np\n",
    "\n",
    "import matplotlib.image as mpimg\n",
    "import matplotlib.pyplot as plt\n",
    "%matplotlib inline\n",
    "\n",
    "from keras.optimizers import SGD, RMSprop\n",
    "\n",
    "import balloonml"
   ]
  },
  {
   "cell_type": "code",
   "execution_count": 5,
   "metadata": {
    "collapsed": false
   },
   "outputs": [],
   "source": [
    "config  ={}\n",
    "config['top_model_weights_path'] = 'disdat2_v1.h5'\n",
    "config['train_data_dir'] = '../data'\n",
    "config['validation_data_dir'] = '../validation'\n",
    "\n",
    "config['bottleneck_train'] = 'bottleneck_features_train.npy'\n",
    "config['bottleneck_validation'] = 'bottleneck_features_validation.npy'\n",
    "\n",
    "# True if bottleneck features are not available yet, \n",
    "# False if they are and can be lodaded\n",
    "calculate_bottleneck = False \n",
    "\n",
    "config['epochs'] = 50\n",
    "config['batch_size'] = 32\n",
    "\n",
    "# config['optimizer']=RMSprop(lr=0.0001, decay=1E-5)\n",
    "config['optimizer']='sgd'\n",
    "config['lr']=0.0005\n",
    "config['decay']=5E-10\n",
    "\n",
    "# config['optimizer']=RMSprop()\n",
    "config['output']='disdat-110-sgd-decay5'\n",
    "\n",
    "with open(config['output']+'.config', 'w') as fp:\n",
    "    json.dump(config, fp)"
   ]
  },
  {
   "cell_type": "markdown",
   "metadata": {},
   "source": [
    "## Saving or loading bottleneck features"
   ]
  },
  {
   "cell_type": "code",
   "execution_count": 6,
   "metadata": {
    "collapsed": false
   },
   "outputs": [],
   "source": [
    "if calculate_bottleneck:\n",
    "    model = VGG16(include_top=False, weights='imagenet')\n",
    "    train_data = balloonml.bottleneck(model,config['train_data_dir'],config['bottleneck_train'])\n",
    "    validation_data = balloonml.bottleneck(model,config['validation_data_dir'],config['bottleneck_validation'])\n",
    "else:\n",
    "    train_data = np.load(config['bottleneck_train'])\n",
    "    validation_data = np.load(config['bottleneck_validation'])"
   ]
  },
  {
   "cell_type": "markdown",
   "metadata": {},
   "source": [
    "## Running model"
   ]
  },
  {
   "cell_type": "code",
   "execution_count": null,
   "metadata": {
    "collapsed": false
   },
   "outputs": [],
   "source": [
    "if config['optimizer']=='sgd':\n",
    "    optimizer=SGD(lr=config['lr'], decay=config['decay'])\n",
    "elif config['optimizer']=='rmsprop':\n",
    "    optimizer=RMSprop(lr=config['lr'], decay=config['decay'])\n",
    "\n",
    "history = balloonml.train_top(\n",
    "    train_data, \n",
    "    validation_data,\n",
    "    train_data_dir=config['train_data_dir'], \n",
    "    validation_data_dir=config['validation_data_dir'],\n",
    "    optimizer=optimizer,\n",
    "    batch_size = config['batch_size']\n",
    "    epochs=config['epochs'],\n",
    "    output=config['output'])\n",
    "balloonml.plotResult(history)"
   ]
  },
  {
   "cell_type": "markdown",
   "metadata": {},
   "source": [
    "## Prediction"
   ]
  },
  {
   "cell_type": "code",
   "execution_count": null,
   "metadata": {
    "collapsed": false
   },
   "outputs": [],
   "source": [
    "image_path = 'test_images/keyboard.jpg'\n",
    "img=mpimg.imread(image_path)\n",
    "plt.imshow(img)\n",
    "print(\"I think this is a \"+balloonml.predict(image_path, output+'.h5')+\".\")"
   ]
  }
 ],
 "metadata": {
  "kernelspec": {
   "display_name": "Python 3",
   "language": "python",
   "name": "python3"
  },
  "language_info": {
   "codemirror_mode": {
    "name": "ipython",
    "version": 3
   },
   "file_extension": ".py",
   "mimetype": "text/x-python",
   "name": "python",
   "nbconvert_exporter": "python",
   "pygments_lexer": "ipython3",
   "version": "3.6.0"
  }
 },
 "nbformat": 4,
 "nbformat_minor": 2
}
