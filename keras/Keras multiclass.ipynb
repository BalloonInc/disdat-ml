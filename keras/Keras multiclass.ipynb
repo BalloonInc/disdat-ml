{
 "cells": [
  {
   "cell_type": "code",
   "execution_count": 1,
   "metadata": {},
   "outputs": [
    {
     "name": "stderr",
     "output_type": "stream",
     "text": [
      "Using TensorFlow backend.\n"
     ]
    }
   ],
   "source": [
    "import numpy as np\n",
    "from keras.preprocessing.image import ImageDataGenerator, img_to_array, load_img\n",
    "from keras.applications.vgg16 import VGG16, preprocess_input\n",
    "\n",
    "from keras.models import Sequential\n",
    "from keras.layers import Dropout, Flatten, Dense\n",
    "from keras import applications\n",
    "from keras.utils.np_utils import to_categorical\n",
    "from keras.optimizers import SGD\n",
    "\n",
    "import matplotlib.pyplot as plt\n",
    "import math\n",
    "import cv2"
   ]
  },
  {
   "cell_type": "code",
   "execution_count": 7,
   "metadata": {
    "collapsed": true
   },
   "outputs": [],
   "source": [
    "img_width, img_height = 224, 224\n",
    "\n",
    "top_model_weights_path = 'multiclass_50epochs_sgd.h5'\n",
    "train_data_dir = '../data'\n",
    "validation_data_dir = '../validation'\n",
    "\n",
    "# number of epochs to train top model\n",
    "epochs = 50\n",
    "# batch size used by flow_from_directory and predict_generator\n",
    "batch_size = 16"
   ]
  },
  {
   "cell_type": "markdown",
   "metadata": {},
   "source": [
    "# Saving bottleneck features"
   ]
  },
  {
   "cell_type": "code",
   "execution_count": null,
   "metadata": {
    "collapsed": true
   },
   "outputs": [],
   "source": [
    "# build the VGG16 network\n",
    "model = VGG16(include_top=False, weights='imagenet')\n",
    "\n",
    "datagen = ImageDataGenerator(rescale=1. / 255)"
   ]
  },
  {
   "cell_type": "code",
   "execution_count": null,
   "metadata": {},
   "outputs": [],
   "source": [
    "bottleneckTrainGenerator = datagen.flow_from_directory(\n",
    "    train_data_dir,\n",
    "    target_size=(img_width, img_height),\n",
    "    batch_size=batch_size,\n",
    "    class_mode=None,\n",
    "    shuffle=False)\n",
    "\n",
    "print(len(bottleneckTrainGenerator.filenames))\n",
    "print(bottleneckTrainGenerator.class_indices)\n",
    "print(len(bottleneckTrainGenerator.class_indices))\n",
    "\n",
    "nb_train_samples = len(bottleneckTrainGenerator.filenames)\n",
    "num_classes = len(bottleneckTrainGenerator.class_indices)\n",
    "\n",
    "predict_size_train = int(math.ceil(nb_train_samples / batch_size))"
   ]
  },
  {
   "cell_type": "code",
   "execution_count": null,
   "metadata": {},
   "outputs": [],
   "source": [
    "bottleneck_features_train = model.predict_generator(\n",
    "    bottleneckTrainGenerator, predict_size_train)\n",
    "\n",
    "np.save('bottleneck_features_train.npy', bottleneck_features_train)"
   ]
  },
  {
   "cell_type": "code",
   "execution_count": null,
   "metadata": {},
   "outputs": [],
   "source": [
    "bottleneckValidationGenerator = datagen.flow_from_directory(\n",
    "    validation_data_dir,\n",
    "    target_size=(img_width, img_height),\n",
    "    batch_size=batch_size,\n",
    "    class_mode=None,\n",
    "    shuffle=False)\n",
    "\n",
    "nb_validation_samples = len(bottleneckValidationGenerator.filenames)\n",
    "\n",
    "predict_size_validation = int(\n",
    "    math.ceil(nb_validation_samples / batch_size))"
   ]
  },
  {
   "cell_type": "code",
   "execution_count": null,
   "metadata": {
    "collapsed": true
   },
   "outputs": [],
   "source": [
    "bottleneck_features_validation = model.predict_generator(\n",
    "    bottleneckValidationGenerator, predict_size_validation)\n",
    "\n",
    "np.save('bottleneck_features_validation.npy',\n",
    "        bottleneck_features_validation)"
   ]
  },
  {
   "cell_type": "markdown",
   "metadata": {},
   "source": [
    "# Training top model\n"
   ]
  },
  {
   "cell_type": "code",
   "execution_count": null,
   "metadata": {},
   "outputs": [],
   "source": [
    "datagen_top = ImageDataGenerator(rescale=1. / 255)\n",
    "generator_training_top = datagen_top.flow_from_directory(\n",
    "    train_data_dir,\n",
    "    target_size=(img_width, img_height),\n",
    "    batch_size=batch_size,\n",
    "    class_mode='categorical',\n",
    "    shuffle=False)\n",
    "\n",
    "nb_train_samples = len(generator_training_top.filenames)\n",
    "num_classes = len(generator_training_top.class_indices)\n",
    "\n",
    "\n",
    "# get the class lebels for the training data, in the original order\n",
    "train_labels = generator_training_top.classes\n",
    "\n",
    "# https://github.com/fchollet/keras/issues/3467\n",
    "# convert the training labels to categorical vectors\n",
    "train_labels = to_categorical(train_labels, num_classes=num_classes)\n",
    "\n",
    "# save the class indices to use use later in predictions\n",
    "np.save('class_indices.npy', generator_training_top.class_indices)"
   ]
  },
  {
   "cell_type": "code",
   "execution_count": null,
   "metadata": {},
   "outputs": [],
   "source": [
    "generator_validation_top = datagen_top.flow_from_directory(\n",
    "    validation_data_dir,\n",
    "    target_size=(img_width, img_height),\n",
    "    batch_size=batch_size,\n",
    "    class_mode=None,\n",
    "    shuffle=False)\n",
    "\n",
    "nb_validation_samples = len(generator_validation_top.filenames)\n",
    "\n",
    "validation_labels = generator_validation_top.classes\n",
    "validation_labels = to_categorical(\n",
    "    validation_labels, num_classes=num_classes)"
   ]
  },
  {
   "cell_type": "code",
   "execution_count": null,
   "metadata": {},
   "outputs": [],
   "source": [
    "# data prep\n",
    "train_datagen =  ImageDataGenerator(\n",
    "    preprocessing_function=preprocess_input,\n",
    "    rotation_range=30,\n",
    "    width_shift_range=0.2,\n",
    "    height_shift_range=0.2,\n",
    "    shear_range=0.2,\n",
    "    zoom_range=0.2,\n",
    "    horizontal_flip=True\n",
    ")\n",
    "test_datagen = ImageDataGenerator(\n",
    "    preprocessing_function=preprocess_input,\n",
    "    rotation_range=30,\n",
    "    width_shift_range=0.2,\n",
    "    height_shift_range=0.2,\n",
    "    shear_range=0.2,\n",
    "    zoom_range=0.2,\n",
    "    horizontal_flip=True\n",
    ")\n",
    "\n",
    "train_generator = train_datagen.flow_from_directory(\n",
    "    train_data_dir,\n",
    "    target_size=(img_width, img_height),\n",
    "    batch_size=batch_size,\n",
    "    class_mode='categorical'\n",
    ")\n",
    "\n",
    "validation_generator = test_datagen.flow_from_directory(\n",
    "    validation_data_dir,\n",
    "    target_size=(img_width, img_height),\n",
    "    batch_size=batch_size\n",
    ")\n",
    "\n",
    "nb_train_samples = len(train_generator.filenames)\n",
    "num_classes = len(train_generator.class_indices)\n",
    "\n",
    "\n",
    "# get the class lebels for the training data, in the original order\n",
    "train_labels = train_generator.classes\n",
    "\n",
    "# https://github.com/fchollet/keras/issues/3467\n",
    "# convert the training labels to categorical vectors\n",
    "train_labels = to_categorical(train_labels, num_classes=num_classes)\n",
    "\n",
    "# save the class indices to use use later in predictions\n",
    "np.save('class_indices.npy', train_generator.class_indices)\n",
    "\n",
    "nb_validation_samples = len(validation_generator.filenames)\n",
    "\n",
    "validation_labels = validation_generator.classes\n",
    "validation_labels = to_categorical(\n",
    "    validation_labels, num_classes=num_classes)"
   ]
  },
  {
   "cell_type": "code",
   "execution_count": null,
   "metadata": {
    "collapsed": true
   },
   "outputs": [],
   "source": [
    "# load the bottleneck features saved earlier\n",
    "train_data = np.load('bottleneck_features_train.npy')\n",
    "validation_data = np.load('bottleneck_features_validation.npy')"
   ]
  },
  {
   "cell_type": "code",
   "execution_count": null,
   "metadata": {},
   "outputs": [],
   "source": [
    "model = Sequential()\n",
    "model.add(Flatten(input_shape=train_data.shape[1:]))\n",
    "model.add(Dense(256, activation='relu'))\n",
    "model.add(Dropout(0.5))\n",
    "model.add(Dense(num_classes, activation='sigmoid'))\n",
    "\n",
    "model.compile(optimizer=SGD(lr=0.0001, momentum=0.9),\n",
    "              loss='categorical_crossentropy', metrics=['accuracy'])"
   ]
  },
  {
   "cell_type": "code",
   "execution_count": null,
   "metadata": {},
   "outputs": [],
   "source": [
    "print(generator_training_top.class_indices)\n",
    "print(generator_training_top.classes[48000])\n",
    "print(train_labels[48000])\n",
    "\n",
    "print(generator_validation_top.classes[5000])\n",
    "print(validation_labels[5000])"
   ]
  },
  {
   "cell_type": "code",
   "execution_count": null,
   "metadata": {},
   "outputs": [],
   "source": [
    "history = model.fit(train_data, train_labels,\n",
    "                    epochs=epochs,\n",
    "                    batch_size=batch_size,\n",
    "                    validation_data=(validation_data, validation_labels))\n",
    "\n",
    "model.save_weights(top_model_weights_path)\n",
    "\n",
    "(eval_loss, eval_accuracy) = model.evaluate(\n",
    "    validation_data, validation_labels, batch_size=batch_size, verbose=1)\n",
    "\n",
    "print(\"[INFO] accuracy: {:.2f}%\".format(eval_accuracy * 100))\n",
    "print(\"[INFO] Loss: {}\".format(eval_loss))"
   ]
  },
  {
   "cell_type": "code",
   "execution_count": null,
   "metadata": {
    "collapsed": true
   },
   "outputs": [],
   "source": [
    "plt.figure(1)\n",
    "\n",
    "# summarize history for accuracy\n",
    "\n",
    "plt.subplot(211)\n",
    "plt.plot(history.history['acc'])\n",
    "plt.plot(history.history['val_acc'])\n",
    "plt.title('model accuracy')\n",
    "plt.ylabel('accuracy')\n",
    "plt.xlabel('epoch')\n",
    "plt.legend(['train', 'test'], loc='upper left')\n",
    "\n",
    "# summarize history for loss\n",
    "\n",
    "plt.subplot(212)\n",
    "plt.plot(history.history['loss'])\n",
    "plt.plot(history.history['val_loss'])\n",
    "plt.title('model loss')\n",
    "plt.ylabel('loss')\n",
    "plt.xlabel('epoch')\n",
    "plt.legend(['train', 'test'], loc='upper left')\n",
    "plt.show()"
   ]
  },
  {
   "cell_type": "markdown",
   "metadata": {},
   "source": [
    "# Prediction"
   ]
  },
  {
   "cell_type": "code",
   "execution_count": 12,
   "metadata": {},
   "outputs": [
    {
     "name": "stdout",
     "output_type": "stream",
     "text": [
      "[INFO] loading and preprocessing image...\n"
     ]
    }
   ],
   "source": [
    "# load the class_indices saved in the earlier step\n",
    "class_dictionary = np.load('class_indices.npy').item()\n",
    "\n",
    "num_classes = len(class_dictionary)\n",
    "\n",
    "# add the path to your test image below\n",
    "image_path = 'test_images/ship.jpg'\n",
    "\n",
    "orig = cv2.imread(image_path)\n",
    "\n",
    "print(\"[INFO] loading and preprocessing image...\")\n",
    "image = load_img(image_path, target_size=(224, 224))\n",
    "image = img_to_array(image)\n",
    "\n",
    "# important! otherwise the predictions will be '0'\n",
    "image = image / 255\n",
    "\n",
    "image = np.expand_dims(image, axis=0)\n",
    "\n",
    "# build the VGG16 network\n",
    "model = applications.VGG16(include_top=False, weights='imagenet')\n",
    "\n",
    "# get the bottleneck prediction from the pre-trained VGG16 model\n",
    "bottleneck_prediction = model.predict(image)\n",
    "\n",
    "# build top model\n",
    "model = Sequential()\n",
    "model.add(Flatten(input_shape=bottleneck_prediction.shape[1:]))\n",
    "model.add(Dense(256, activation='relu'))\n",
    "model.add(Dropout(0.5))\n",
    "model.add(Dense(num_classes, activation='sigmoid'))\n",
    "\n",
    "model.load_weights(top_model_weights_path)"
   ]
  },
  {
   "cell_type": "code",
   "execution_count": 13,
   "metadata": {},
   "outputs": [
    {
     "name": "stdout",
     "output_type": "stream",
     "text": [
      "1/1 [==============================] - 0s\n",
      "1/1 [==============================] - 0s\n",
      "Image ID: 72, Label: ship\n"
     ]
    }
   ],
   "source": [
    "# use the bottleneck prediction on the top model to get the final\n",
    "# classification\n",
    "class_predicted = model.predict_classes(bottleneck_prediction)\n",
    "\n",
    "probabilities = model.predict_proba(bottleneck_prediction)\n",
    "\n",
    "inID = class_predicted[0]\n",
    "\n",
    "inv_map = {v: k for k, v in class_dictionary.items()}\n",
    "\n",
    "label = inv_map[inID]\n",
    "\n",
    "# get the prediction label\n",
    "print(\"Image ID: {}, Label: {}\".format(inID, label))"
   ]
  },
  {
   "cell_type": "code",
   "execution_count": null,
   "metadata": {
    "collapsed": true
   },
   "outputs": [],
   "source": [
    "# display the predictions with the image\n",
    "cv2.putText(orig, \"Predicted: {}\".format(label), (10, 30),\n",
    "            cv2.FONT_HERSHEY_PLAIN, 1.5, (43, 99, 255), 2)\n",
    "\n",
    "cv2.imshow(\"Classification\", orig)"
   ]
  }
 ],
 "metadata": {
  "kernelspec": {
   "display_name": "Python 2",
   "language": "python",
   "name": "python2"
  },
  "language_info": {
   "codemirror_mode": {
    "name": "ipython",
    "version": 2
   },
   "file_extension": ".py",
   "mimetype": "text/x-python",
   "name": "python",
   "nbconvert_exporter": "python",
   "pygments_lexer": "ipython2",
   "version": "2.7.10"
  }
 },
 "nbformat": 4,
 "nbformat_minor": 2
}
