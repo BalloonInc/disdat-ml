{
 "cells": [
  {
   "cell_type": "markdown",
   "metadata": {},
   "source": [
    "https://blog.keras.io/building-powerful-image-classification-models-using-very-little-data.html\n",
    "https://github.com/DeepLearningSandbox/DeepLearningSandbox/blob/master/transfer_learning/fine-tune.py"
   ]
  },
  {
   "cell_type": "code",
   "execution_count": 6,
   "metadata": {
    "collapsed": true
   },
   "outputs": [],
   "source": [
    "import os\n",
    "import glob\n",
    "\n",
    "from keras.applications.inception_v3 import InceptionV3, preprocess_input\n",
    "from keras.preprocessing import image\n",
    "from keras.models import Model\n",
    "from keras.layers import Dense, GlobalAveragePooling2D\n",
    "from keras import backend as K\n",
    "from keras.preprocessing.image import ImageDataGenerator\n",
    "import keras.callbacks\n",
    "from keras.optimizers import SGD\n",
    "\n",
    "from PIL import ImageFile\n",
    "ImageFile.LOAD_TRUNCATED_IMAGES = True"
   ]
  },
  {
   "cell_type": "code",
   "execution_count": 7,
   "metadata": {
    "collapsed": true
   },
   "outputs": [],
   "source": [
    "train_dir='../data_simple'\n",
    "val_dir='../validation_simple'\n",
    "nb_epoch=2\n",
    "batch_size=32\n",
    "\n",
    "IM_WIDTH, IM_HEIGHT = 299, 299 #fixed size for InceptionV3\n",
    "\n",
    "FC_SIZE = 1024\n",
    "NB_IV3_LAYERS_TO_FREEZE = 249"
   ]
  },
  {
   "cell_type": "code",
   "execution_count": 8,
   "metadata": {
    "collapsed": true
   },
   "outputs": [],
   "source": [
    "def get_nb_files(directory):\n",
    "  \"\"\"Get number of files by searching directory recursively\"\"\"\n",
    "  if not os.path.exists(directory):\n",
    "    return 0\n",
    "  cnt = 0\n",
    "  for r, dirs, files in os.walk(directory):\n",
    "    for dr in dirs:\n",
    "      cnt += len(glob.glob(os.path.join(r, dr + \"/*\")))\n",
    "  return cnt"
   ]
  },
  {
   "cell_type": "code",
   "execution_count": 9,
   "metadata": {
    "collapsed": false
   },
   "outputs": [
    {
     "name": "stdout",
     "output_type": "stream",
     "text": [
      "Loaded 1295 training images, 322 validation images, spanning over 2 classes.\n"
     ]
    }
   ],
   "source": [
    "nb_train_samples = get_nb_files(train_dir)\n",
    "nb_val_samples = get_nb_files(val_dir)\n",
    "nb_classes = len(glob.glob(val_dir + \"/*\"))\n",
    "\n",
    "print(\"Loaded %d training images, %d validation images, spanning over %d classes.\"%(nb_train_samples, nb_val_samples, nb_classes))"
   ]
  },
  {
   "cell_type": "code",
   "execution_count": 10,
   "metadata": {
    "collapsed": true
   },
   "outputs": [],
   "source": [
    "model = InceptionV3(weights='imagenet', include_top=True)"
   ]
  },
  {
   "cell_type": "code",
   "execution_count": 11,
   "metadata": {
    "collapsed": true
   },
   "outputs": [],
   "source": [
    "# compile the model (should be done *after* setting layers to non-trainable)\n",
    "model.compile(optimizer='rmsprop', loss='categorical_crossentropy', metrics=['accuracy'])"
   ]
  },
  {
   "cell_type": "code",
   "execution_count": 17,
   "metadata": {
    "collapsed": false
   },
   "outputs": [
    {
     "name": "stdout",
     "output_type": "stream",
     "text": [
      "Found 1294 images belonging to 2 classes.\n",
      "Found 321 images belonging to 2 classes.\n"
     ]
    }
   ],
   "source": [
    "# data prep\n",
    "train_datagen =  ImageDataGenerator(\n",
    "    preprocessing_function=preprocess_input,\n",
    "    rotation_range=30,\n",
    "    width_shift_range=0.2,\n",
    "    height_shift_range=0.2,\n",
    "    shear_range=0.2,\n",
    "    zoom_range=0.2,\n",
    "    horizontal_flip=True\n",
    ")\n",
    "test_datagen = ImageDataGenerator(\n",
    "    preprocessing_function=preprocess_input,\n",
    "    rotation_range=30,\n",
    "    width_shift_range=0.2,\n",
    "    height_shift_range=0.2,\n",
    "    shear_range=0.2,\n",
    "    zoom_range=0.2,\n",
    "    horizontal_flip=True\n",
    ")\n",
    "\n",
    "train_generator = train_datagen.flow_from_directory(\n",
    "    train_dir,\n",
    "    target_size=(IM_WIDTH, IM_HEIGHT),\n",
    "    batch_size=batch_size,\n",
    ")\n",
    "\n",
    "validation_generator = test_datagen.flow_from_directory(\n",
    "    val_dir,\n",
    "    target_size=(IM_WIDTH, IM_HEIGHT),\n",
    "    batch_size=batch_size,\n",
    ")"
   ]
  },
  {
   "cell_type": "markdown",
   "metadata": {},
   "source": [
    "## Data preprocessing"
   ]
  },
  {
   "cell_type": "markdown",
   "metadata": {},
   "source": [
    "At this point, the top layers are well trained and we can start fine-tuning convolutional layers from inception V3. We will freeze the bottom N layers and train the remaining top layers.\n",
    "\n",
    "let's visualize layer names and layer indices to see how many layers we should freeze:"
   ]
  },
  {
   "cell_type": "code",
   "execution_count": 12,
   "metadata": {
    "collapsed": false
   },
   "outputs": [
    {
     "name": "stdout",
     "output_type": "stream",
     "text": [
      "(0, 'input_2')\n",
      "(1, 'conv2d_26')\n",
      "(2, 'batch_normalization_25')\n",
      "(3, 'activation_25')\n",
      "(4, 'conv2d_27')\n",
      "(5, 'batch_normalization_26')\n",
      "(6, 'activation_26')\n",
      "(7, 'conv2d_28')\n",
      "(8, 'batch_normalization_27')\n",
      "(9, 'activation_27')\n",
      "(10, 'max_pooling2d_3')\n",
      "(11, 'conv2d_29')\n",
      "(12, 'batch_normalization_28')\n",
      "(13, 'activation_28')\n",
      "(14, 'conv2d_30')\n",
      "(15, 'batch_normalization_29')\n",
      "(16, 'activation_29')\n",
      "(17, 'max_pooling2d_4')\n",
      "(18, 'conv2d_34')\n",
      "(19, 'batch_normalization_33')\n",
      "(20, 'activation_33')\n",
      "(21, 'conv2d_32')\n",
      "(22, 'conv2d_35')\n",
      "(23, 'batch_normalization_31')\n",
      "(24, 'batch_normalization_34')\n",
      "(25, 'activation_31')\n",
      "(26, 'activation_34')\n",
      "(27, 'average_pooling2d_3')\n",
      "(28, 'conv2d_31')\n",
      "(29, 'conv2d_33')\n",
      "(30, 'conv2d_36')\n",
      "(31, 'conv2d_37')\n",
      "(32, 'batch_normalization_30')\n",
      "(33, 'batch_normalization_32')\n",
      "(34, 'batch_normalization_35')\n",
      "(35, 'batch_normalization_36')\n",
      "(36, 'activation_30')\n",
      "(37, 'activation_32')\n",
      "(38, 'activation_35')\n",
      "(39, 'activation_36')\n",
      "(40, 'mixed0')\n",
      "(41, 'conv2d_41')\n",
      "(42, 'batch_normalization_40')\n",
      "(43, 'activation_40')\n",
      "(44, 'conv2d_39')\n",
      "(45, 'conv2d_42')\n",
      "(46, 'batch_normalization_38')\n",
      "(47, 'batch_normalization_41')\n",
      "(48, 'activation_38')\n",
      "(49, 'activation_41')\n",
      "(50, 'average_pooling2d_4')\n",
      "(51, 'conv2d_38')\n",
      "(52, 'conv2d_40')\n",
      "(53, 'conv2d_43')\n",
      "(54, 'conv2d_44')\n",
      "(55, 'batch_normalization_37')\n",
      "(56, 'batch_normalization_39')\n",
      "(57, 'batch_normalization_42')\n",
      "(58, 'batch_normalization_43')\n",
      "(59, 'activation_37')\n",
      "(60, 'activation_39')\n",
      "(61, 'activation_42')\n",
      "(62, 'activation_43')\n",
      "(63, 'mixed1')\n",
      "(64, 'conv2d_48')\n",
      "(65, 'batch_normalization_47')\n",
      "(66, 'activation_47')\n",
      "(67, 'conv2d_46')\n",
      "(68, 'conv2d_49')\n",
      "(69, 'batch_normalization_45')\n",
      "(70, 'batch_normalization_48')\n",
      "(71, 'activation_45')\n",
      "(72, 'activation_48')\n",
      "(73, 'average_pooling2d_5')\n",
      "(74, 'conv2d_45')\n",
      "(75, 'conv2d_47')\n",
      "(76, 'conv2d_50')\n",
      "(77, 'conv2d_51')\n",
      "(78, 'batch_normalization_44')\n",
      "(79, 'batch_normalization_46')\n",
      "(80, 'batch_normalization_49')\n",
      "(81, 'batch_normalization_50')\n",
      "(82, 'activation_44')\n",
      "(83, 'activation_46')\n",
      "(84, 'activation_49')\n",
      "(85, 'activation_50')\n",
      "(86, 'mixed2')\n",
      "(87, 'conv2d_53')\n",
      "(88, 'batch_normalization_52')\n",
      "(89, 'activation_52')\n",
      "(90, 'conv2d_54')\n",
      "(91, 'batch_normalization_53')\n",
      "(92, 'activation_53')\n",
      "(93, 'conv2d_52')\n",
      "(94, 'conv2d_55')\n",
      "(95, 'batch_normalization_51')\n",
      "(96, 'batch_normalization_54')\n",
      "(97, 'activation_51')\n",
      "(98, 'activation_54')\n",
      "(99, 'max_pooling2d_5')\n",
      "(100, 'mixed3')\n",
      "(101, 'conv2d_60')\n",
      "(102, 'batch_normalization_59')\n",
      "(103, 'activation_59')\n",
      "(104, 'conv2d_61')\n",
      "(105, 'batch_normalization_60')\n",
      "(106, 'activation_60')\n",
      "(107, 'conv2d_57')\n",
      "(108, 'conv2d_62')\n",
      "(109, 'batch_normalization_56')\n",
      "(110, 'batch_normalization_61')\n",
      "(111, 'activation_56')\n",
      "(112, 'activation_61')\n",
      "(113, 'conv2d_58')\n",
      "(114, 'conv2d_63')\n",
      "(115, 'batch_normalization_57')\n",
      "(116, 'batch_normalization_62')\n",
      "(117, 'activation_57')\n",
      "(118, 'activation_62')\n",
      "(119, 'average_pooling2d_6')\n",
      "(120, 'conv2d_56')\n",
      "(121, 'conv2d_59')\n",
      "(122, 'conv2d_64')\n",
      "(123, 'conv2d_65')\n",
      "(124, 'batch_normalization_55')\n",
      "(125, 'batch_normalization_58')\n",
      "(126, 'batch_normalization_63')\n",
      "(127, 'batch_normalization_64')\n",
      "(128, 'activation_55')\n",
      "(129, 'activation_58')\n",
      "(130, 'activation_63')\n",
      "(131, 'activation_64')\n",
      "(132, 'mixed4')\n",
      "(133, 'conv2d_70')\n",
      "(134, 'batch_normalization_69')\n",
      "(135, 'activation_69')\n",
      "(136, 'conv2d_71')\n",
      "(137, 'batch_normalization_70')\n",
      "(138, 'activation_70')\n",
      "(139, 'conv2d_67')\n",
      "(140, 'conv2d_72')\n",
      "(141, 'batch_normalization_66')\n",
      "(142, 'batch_normalization_71')\n",
      "(143, 'activation_66')\n",
      "(144, 'activation_71')\n",
      "(145, 'conv2d_68')\n",
      "(146, 'conv2d_73')\n",
      "(147, 'batch_normalization_67')\n",
      "(148, 'batch_normalization_72')\n",
      "(149, 'activation_67')\n",
      "(150, 'activation_72')\n",
      "(151, 'average_pooling2d_7')\n",
      "(152, 'conv2d_66')\n",
      "(153, 'conv2d_69')\n",
      "(154, 'conv2d_74')\n",
      "(155, 'conv2d_75')\n",
      "(156, 'batch_normalization_65')\n",
      "(157, 'batch_normalization_68')\n",
      "(158, 'batch_normalization_73')\n",
      "(159, 'batch_normalization_74')\n",
      "(160, 'activation_65')\n",
      "(161, 'activation_68')\n",
      "(162, 'activation_73')\n",
      "(163, 'activation_74')\n",
      "(164, 'mixed5')\n",
      "(165, 'conv2d_80')\n",
      "(166, 'batch_normalization_79')\n",
      "(167, 'activation_79')\n",
      "(168, 'conv2d_81')\n",
      "(169, 'batch_normalization_80')\n",
      "(170, 'activation_80')\n",
      "(171, 'conv2d_77')\n",
      "(172, 'conv2d_82')\n",
      "(173, 'batch_normalization_76')\n",
      "(174, 'batch_normalization_81')\n",
      "(175, 'activation_76')\n",
      "(176, 'activation_81')\n",
      "(177, 'conv2d_78')\n",
      "(178, 'conv2d_83')\n",
      "(179, 'batch_normalization_77')\n",
      "(180, 'batch_normalization_82')\n",
      "(181, 'activation_77')\n",
      "(182, 'activation_82')\n",
      "(183, 'average_pooling2d_8')\n",
      "(184, 'conv2d_76')\n",
      "(185, 'conv2d_79')\n",
      "(186, 'conv2d_84')\n",
      "(187, 'conv2d_85')\n",
      "(188, 'batch_normalization_75')\n",
      "(189, 'batch_normalization_78')\n",
      "(190, 'batch_normalization_83')\n",
      "(191, 'batch_normalization_84')\n",
      "(192, 'activation_75')\n",
      "(193, 'activation_78')\n",
      "(194, 'activation_83')\n",
      "(195, 'activation_84')\n",
      "(196, 'mixed6')\n",
      "(197, 'conv2d_90')\n",
      "(198, 'batch_normalization_89')\n",
      "(199, 'activation_89')\n",
      "(200, 'conv2d_91')\n",
      "(201, 'batch_normalization_90')\n",
      "(202, 'activation_90')\n",
      "(203, 'conv2d_87')\n",
      "(204, 'conv2d_92')\n",
      "(205, 'batch_normalization_86')\n",
      "(206, 'batch_normalization_91')\n",
      "(207, 'activation_86')\n",
      "(208, 'activation_91')\n",
      "(209, 'conv2d_88')\n",
      "(210, 'conv2d_93')\n",
      "(211, 'batch_normalization_87')\n",
      "(212, 'batch_normalization_92')\n",
      "(213, 'activation_87')\n",
      "(214, 'activation_92')\n",
      "(215, 'average_pooling2d_9')\n",
      "(216, 'conv2d_86')\n",
      "(217, 'conv2d_89')\n",
      "(218, 'conv2d_94')\n",
      "(219, 'conv2d_95')\n",
      "(220, 'batch_normalization_85')\n",
      "(221, 'batch_normalization_88')\n",
      "(222, 'batch_normalization_93')\n",
      "(223, 'batch_normalization_94')\n",
      "(224, 'activation_85')\n",
      "(225, 'activation_88')\n",
      "(226, 'activation_93')\n",
      "(227, 'activation_94')\n",
      "(228, 'mixed7')\n",
      "(229, 'conv2d_98')\n",
      "(230, 'batch_normalization_97')\n",
      "(231, 'activation_97')\n",
      "(232, 'conv2d_99')\n",
      "(233, 'batch_normalization_98')\n",
      "(234, 'activation_98')\n",
      "(235, 'conv2d_96')\n",
      "(236, 'conv2d_100')\n",
      "(237, 'batch_normalization_95')\n",
      "(238, 'batch_normalization_99')\n",
      "(239, 'activation_95')\n",
      "(240, 'activation_99')\n",
      "(241, 'conv2d_97')\n",
      "(242, 'conv2d_101')\n",
      "(243, 'batch_normalization_96')\n",
      "(244, 'batch_normalization_100')\n",
      "(245, 'activation_96')\n",
      "(246, 'activation_100')\n",
      "(247, 'max_pooling2d_6')\n",
      "(248, 'mixed8')\n",
      "(249, 'conv2d_106')\n",
      "(250, 'batch_normalization_105')\n",
      "(251, 'activation_105')\n",
      "(252, 'conv2d_103')\n",
      "(253, 'conv2d_107')\n",
      "(254, 'batch_normalization_102')\n",
      "(255, 'batch_normalization_106')\n",
      "(256, 'activation_102')\n",
      "(257, 'activation_106')\n",
      "(258, 'conv2d_104')\n",
      "(259, 'conv2d_105')\n",
      "(260, 'conv2d_108')\n",
      "(261, 'conv2d_109')\n",
      "(262, 'average_pooling2d_10')\n",
      "(263, 'conv2d_102')\n",
      "(264, 'batch_normalization_103')\n",
      "(265, 'batch_normalization_104')\n",
      "(266, 'batch_normalization_107')\n",
      "(267, 'batch_normalization_108')\n",
      "(268, 'conv2d_110')\n",
      "(269, 'batch_normalization_101')\n",
      "(270, 'activation_103')\n",
      "(271, 'activation_104')\n",
      "(272, 'activation_107')\n",
      "(273, 'activation_108')\n",
      "(274, 'batch_normalization_109')\n",
      "(275, 'activation_101')\n",
      "(276, 'mixed9_0')\n",
      "(277, 'concatenate_1')\n",
      "(278, 'activation_109')\n",
      "(279, 'mixed9')\n",
      "(280, 'conv2d_115')\n",
      "(281, 'batch_normalization_114')\n",
      "(282, 'activation_114')\n",
      "(283, 'conv2d_112')\n",
      "(284, 'conv2d_116')\n",
      "(285, 'batch_normalization_111')\n",
      "(286, 'batch_normalization_115')\n",
      "(287, 'activation_111')\n",
      "(288, 'activation_115')\n",
      "(289, 'conv2d_113')\n",
      "(290, 'conv2d_114')\n",
      "(291, 'conv2d_117')\n",
      "(292, 'conv2d_118')\n",
      "(293, 'average_pooling2d_11')\n",
      "(294, 'conv2d_111')\n",
      "(295, 'batch_normalization_112')\n",
      "(296, 'batch_normalization_113')\n",
      "(297, 'batch_normalization_116')\n",
      "(298, 'batch_normalization_117')\n",
      "(299, 'conv2d_119')\n",
      "(300, 'batch_normalization_110')\n",
      "(301, 'activation_112')\n",
      "(302, 'activation_113')\n",
      "(303, 'activation_116')\n",
      "(304, 'activation_117')\n",
      "(305, 'batch_normalization_118')\n",
      "(306, 'activation_110')\n",
      "(307, 'mixed9_1')\n",
      "(308, 'concatenate_2')\n",
      "(309, 'activation_118')\n",
      "(310, 'mixed10')\n",
      "(311, 'avg_pool')\n",
      "(312, 'predictions')\n"
     ]
    }
   ],
   "source": [
    "for i, layer in enumerate(model.layers):\n",
    "   print(i, layer.name) "
   ]
  },
  {
   "cell_type": "markdown",
   "metadata": {},
   "source": [
    "we chose to train the top 2 inception blocks, i.e. we will freeze the first 249 layers and unfreeze the rest:"
   ]
  },
  {
   "cell_type": "code",
   "execution_count": 13,
   "metadata": {
    "collapsed": true
   },
   "outputs": [],
   "source": [
    "for layer in model.layers[:NB_IV3_LAYERS_TO_FREEZE]:\n",
    "   layer.trainable = False\n",
    "for layer in model.layers[NB_IV3_LAYERS_TO_FREEZE:]:\n",
    "   layer.trainable = True"
   ]
  },
  {
   "cell_type": "markdown",
   "metadata": {},
   "source": [
    "we need to recompile the model for these modifications to take effect\n",
    "we use SGD with a low learning rate"
   ]
  },
  {
   "cell_type": "code",
   "execution_count": 14,
   "metadata": {
    "collapsed": true
   },
   "outputs": [],
   "source": [
    "model.compile(optimizer=SGD(lr=0.0001, momentum=0.9), loss='categorical_crossentropy', metrics=['accuracy'])"
   ]
  },
  {
   "cell_type": "markdown",
   "metadata": {},
   "source": [
    "we train our model again (this time fine-tuning the top 2 inception blocks alongside the top Dense layers"
   ]
  },
  {
   "cell_type": "code",
   "execution_count": 15,
   "metadata": {
    "collapsed": true
   },
   "outputs": [],
   "source": [
    "tbCallBack = keras.callbacks.TensorBoard(log_dir='./Graph-fine', histogram_freq=0, write_graph=True, write_images=True)"
   ]
  },
  {
   "cell_type": "code",
   "execution_count": 18,
   "metadata": {
    "collapsed": false
   },
   "outputs": [
    {
     "name": "stdout",
     "output_type": "stream",
     "text": [
      "Epoch 1/2\n"
     ]
    },
    {
     "ename": "ValueError",
     "evalue": "Error when checking target: expected predictions to have shape (None, 1000) but got array with shape (32, 2)",
     "output_type": "error",
     "traceback": [
      "\u001b[0;31m\u001b[0m",
      "\u001b[0;31mValueError\u001b[0mTraceback (most recent call last)",
      "\u001b[0;32m<ipython-input-18-757475cd0afa>\u001b[0m in \u001b[0;36m<module>\u001b[0;34m()\u001b[0m\n\u001b[1;32m      6\u001b[0m     \u001b[0mvalidation_steps\u001b[0m\u001b[0;34m=\u001b[0m\u001b[0mnb_val_samples\u001b[0m\u001b[0;34m//\u001b[0m\u001b[0mbatch_size\u001b[0m\u001b[0;34m,\u001b[0m\u001b[0;34m\u001b[0m\u001b[0m\n\u001b[1;32m      7\u001b[0m     \u001b[0mclass_weight\u001b[0m\u001b[0;34m=\u001b[0m\u001b[0;34m'auto'\u001b[0m\u001b[0;34m,\u001b[0m\u001b[0;34m\u001b[0m\u001b[0m\n\u001b[0;32m----> 8\u001b[0;31m     \u001b[0mcallbacks\u001b[0m\u001b[0;34m=\u001b[0m\u001b[0;34m[\u001b[0m\u001b[0mtbCallBack\u001b[0m\u001b[0;34m]\u001b[0m\u001b[0;34m\u001b[0m\u001b[0m\n\u001b[0m\u001b[1;32m      9\u001b[0m   )\n",
      "\u001b[0;32m/usr/local/lib/python2.7/site-packages/keras/legacy/interfaces.pyc\u001b[0m in \u001b[0;36mwrapper\u001b[0;34m(*args, **kwargs)\u001b[0m\n\u001b[1;32m     86\u001b[0m                 warnings.warn('Update your `' + object_name +\n\u001b[1;32m     87\u001b[0m                               '` call to the Keras 2 API: ' + signature, stacklevel=2)\n\u001b[0;32m---> 88\u001b[0;31m             \u001b[0;32mreturn\u001b[0m \u001b[0mfunc\u001b[0m\u001b[0;34m(\u001b[0m\u001b[0;34m*\u001b[0m\u001b[0margs\u001b[0m\u001b[0;34m,\u001b[0m \u001b[0;34m**\u001b[0m\u001b[0mkwargs\u001b[0m\u001b[0;34m)\u001b[0m\u001b[0;34m\u001b[0m\u001b[0m\n\u001b[0m\u001b[1;32m     89\u001b[0m         \u001b[0mwrapper\u001b[0m\u001b[0;34m.\u001b[0m\u001b[0m_legacy_support_signature\u001b[0m \u001b[0;34m=\u001b[0m \u001b[0minspect\u001b[0m\u001b[0;34m.\u001b[0m\u001b[0mgetargspec\u001b[0m\u001b[0;34m(\u001b[0m\u001b[0mfunc\u001b[0m\u001b[0;34m)\u001b[0m\u001b[0;34m\u001b[0m\u001b[0m\n\u001b[1;32m     90\u001b[0m         \u001b[0;32mreturn\u001b[0m \u001b[0mwrapper\u001b[0m\u001b[0;34m\u001b[0m\u001b[0m\n",
      "\u001b[0;32m/usr/local/lib/python2.7/site-packages/keras/engine/training.pyc\u001b[0m in \u001b[0;36mfit_generator\u001b[0;34m(self, generator, steps_per_epoch, epochs, verbose, callbacks, validation_data, validation_steps, class_weight, max_q_size, workers, pickle_safe, initial_epoch)\u001b[0m\n\u001b[1;32m   1888\u001b[0m                     outs = self.train_on_batch(x, y,\n\u001b[1;32m   1889\u001b[0m                                                \u001b[0msample_weight\u001b[0m\u001b[0;34m=\u001b[0m\u001b[0msample_weight\u001b[0m\u001b[0;34m,\u001b[0m\u001b[0;34m\u001b[0m\u001b[0m\n\u001b[0;32m-> 1890\u001b[0;31m                                                class_weight=class_weight)\n\u001b[0m\u001b[1;32m   1891\u001b[0m \u001b[0;34m\u001b[0m\u001b[0m\n\u001b[1;32m   1892\u001b[0m                     \u001b[0;32mif\u001b[0m \u001b[0;32mnot\u001b[0m \u001b[0misinstance\u001b[0m\u001b[0;34m(\u001b[0m\u001b[0mouts\u001b[0m\u001b[0;34m,\u001b[0m \u001b[0mlist\u001b[0m\u001b[0;34m)\u001b[0m\u001b[0;34m:\u001b[0m\u001b[0;34m\u001b[0m\u001b[0m\n",
      "\u001b[0;32m/usr/local/lib/python2.7/site-packages/keras/engine/training.pyc\u001b[0m in \u001b[0;36mtrain_on_batch\u001b[0;34m(self, x, y, sample_weight, class_weight)\u001b[0m\n\u001b[1;32m   1625\u001b[0m             \u001b[0msample_weight\u001b[0m\u001b[0;34m=\u001b[0m\u001b[0msample_weight\u001b[0m\u001b[0;34m,\u001b[0m\u001b[0;34m\u001b[0m\u001b[0m\n\u001b[1;32m   1626\u001b[0m             \u001b[0mclass_weight\u001b[0m\u001b[0;34m=\u001b[0m\u001b[0mclass_weight\u001b[0m\u001b[0;34m,\u001b[0m\u001b[0;34m\u001b[0m\u001b[0m\n\u001b[0;32m-> 1627\u001b[0;31m             check_batch_axis=True)\n\u001b[0m\u001b[1;32m   1628\u001b[0m         \u001b[0;32mif\u001b[0m \u001b[0mself\u001b[0m\u001b[0;34m.\u001b[0m\u001b[0muses_learning_phase\u001b[0m \u001b[0;32mand\u001b[0m \u001b[0;32mnot\u001b[0m \u001b[0misinstance\u001b[0m\u001b[0;34m(\u001b[0m\u001b[0mK\u001b[0m\u001b[0;34m.\u001b[0m\u001b[0mlearning_phase\u001b[0m\u001b[0;34m(\u001b[0m\u001b[0;34m)\u001b[0m\u001b[0;34m,\u001b[0m \u001b[0mint\u001b[0m\u001b[0;34m)\u001b[0m\u001b[0;34m:\u001b[0m\u001b[0;34m\u001b[0m\u001b[0m\n\u001b[1;32m   1629\u001b[0m             \u001b[0mins\u001b[0m \u001b[0;34m=\u001b[0m \u001b[0mx\u001b[0m \u001b[0;34m+\u001b[0m \u001b[0my\u001b[0m \u001b[0;34m+\u001b[0m \u001b[0msample_weights\u001b[0m \u001b[0;34m+\u001b[0m \u001b[0;34m[\u001b[0m\u001b[0;36m1.\u001b[0m\u001b[0;34m]\u001b[0m\u001b[0;34m\u001b[0m\u001b[0m\n",
      "\u001b[0;32m/usr/local/lib/python2.7/site-packages/keras/engine/training.pyc\u001b[0m in \u001b[0;36m_standardize_user_data\u001b[0;34m(self, x, y, sample_weight, class_weight, check_batch_axis, batch_size)\u001b[0m\n\u001b[1;32m   1307\u001b[0m                                     \u001b[0moutput_shapes\u001b[0m\u001b[0;34m,\u001b[0m\u001b[0;34m\u001b[0m\u001b[0m\n\u001b[1;32m   1308\u001b[0m                                     \u001b[0mcheck_batch_axis\u001b[0m\u001b[0;34m=\u001b[0m\u001b[0mFalse\u001b[0m\u001b[0;34m,\u001b[0m\u001b[0;34m\u001b[0m\u001b[0m\n\u001b[0;32m-> 1309\u001b[0;31m                                     exception_prefix='target')\n\u001b[0m\u001b[1;32m   1310\u001b[0m         sample_weights = _standardize_sample_weights(sample_weight,\n\u001b[1;32m   1311\u001b[0m                                                      self._feed_output_names)\n",
      "\u001b[0;32m/usr/local/lib/python2.7/site-packages/keras/engine/training.pyc\u001b[0m in \u001b[0;36m_standardize_input_data\u001b[0;34m(data, names, shapes, check_batch_axis, exception_prefix)\u001b[0m\n\u001b[1;32m    137\u001b[0m                             \u001b[0;34m' to have shape '\u001b[0m \u001b[0;34m+\u001b[0m \u001b[0mstr\u001b[0m\u001b[0;34m(\u001b[0m\u001b[0mshapes\u001b[0m\u001b[0;34m[\u001b[0m\u001b[0mi\u001b[0m\u001b[0;34m]\u001b[0m\u001b[0;34m)\u001b[0m \u001b[0;34m+\u001b[0m\u001b[0;34m\u001b[0m\u001b[0m\n\u001b[1;32m    138\u001b[0m                             \u001b[0;34m' but got array with shape '\u001b[0m \u001b[0;34m+\u001b[0m\u001b[0;34m\u001b[0m\u001b[0m\n\u001b[0;32m--> 139\u001b[0;31m                             str(array.shape))\n\u001b[0m\u001b[1;32m    140\u001b[0m     \u001b[0;32mreturn\u001b[0m \u001b[0marrays\u001b[0m\u001b[0;34m\u001b[0m\u001b[0m\n\u001b[1;32m    141\u001b[0m \u001b[0;34m\u001b[0m\u001b[0m\n",
      "\u001b[0;31mValueError\u001b[0m: Error when checking target: expected predictions to have shape (None, 1000) but got array with shape (32, 2)"
     ]
    }
   ],
   "source": [
    "history_ft = model.fit_generator(\n",
    "    train_generator,\n",
    "    steps_per_epoch=nb_train_samples//batch_size,\n",
    "    epochs=nb_epoch,\n",
    "    validation_data=validation_generator,\n",
    "    validation_steps=nb_val_samples//batch_size,\n",
    "    class_weight='auto',\n",
    "    callbacks=[tbCallBack]\n",
    "  )"
   ]
  },
  {
   "cell_type": "markdown",
   "metadata": {},
   "source": [
    "Save the model"
   ]
  },
  {
   "cell_type": "code",
   "execution_count": null,
   "metadata": {
    "collapsed": true
   },
   "outputs": [],
   "source": [
    "model.save('disdat-keras-refine-simple.model')"
   ]
  }
 ],
 "metadata": {
  "kernelspec": {
   "display_name": "Python 3",
   "language": "python",
   "name": "python3"
  },
  "language_info": {
   "codemirror_mode": {
    "name": "ipython",
    "version": 3
   },
   "file_extension": ".py",
   "mimetype": "text/x-python",
   "name": "python",
   "nbconvert_exporter": "python",
   "pygments_lexer": "ipython3",
   "version": "3.6.0"
  }
 },
 "nbformat": 4,
 "nbformat_minor": 2
}
