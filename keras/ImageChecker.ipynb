{
 "cells": [
  {
   "cell_type": "code",
   "execution_count": 1,
   "metadata": {
    "collapsed": true
   },
   "outputs": [],
   "source": [
    "import os, glob\n",
    "from scipy.ndimage import imread"
   ]
  },
  {
   "cell_type": "code",
   "execution_count": 2,
   "metadata": {
    "collapsed": true
   },
   "outputs": [],
   "source": [
    "def clean_folder(path, debug=False, requiredDimension=0):\n",
    "    invalid_shape=0\n",
    "    not_an_image=0\n",
    "    for subdir, dirs, files in os.walk(path):\n",
    "        if debug:\n",
    "            print('checking folder %s'%subdir)\n",
    "        for fil in files:\n",
    "            filePath=os.path.join(subdir, fil)\n",
    "            try:\n",
    "                im = imread(filePath)\n",
    "                if (requiredDimension and len(im.shape) != requiredDimension) or len(im.shape) < 2:\n",
    "                    if debug:\n",
    "                        print('Invalid shape %s for image %s'%(im.shape, filePath))\n",
    "                    os.remove(filePath)\n",
    "                    invalid_shape+=1\n",
    "            except:\n",
    "                if debug:\n",
    "                    print('Failed on image %s'%fil)\n",
    "                os.remove(filePath)\n",
    "                not_an_image+=1\n",
    "    if debug:\n",
    "        print(\"Finished. Removed %d files, of which %d had an invalid dimension, and %d appeared to be not images.\"%(invalid_shape+not_an_image, invalid_shape, not_an_image))"
   ]
  },
  {
   "cell_type": "code",
   "execution_count": null,
   "metadata": {
    "collapsed": false
   },
   "outputs": [],
   "source": [
    "clean_folder('../validation', debug=True)"
   ]
  },
  {
   "cell_type": "code",
   "execution_count": 3,
   "metadata": {
    "collapsed": false
   },
   "outputs": [
    {
     "name": "stdout",
     "output_type": "stream",
     "text": [
      "checking folder ../data\n",
      "checking folder ../data/juwels\n",
      "checking folder ../data/mushroom\n",
      "checking folder ../data/grass\n",
      "checking folder ../data/church\n",
      "checking folder ../data/ball\n",
      "checking folder ../data/tank\n",
      "checking folder ../data/bowl\n",
      "checking folder ../data/camera\n",
      "checking folder ../data/monitor\n",
      "checking folder ../data/closet\n",
      "checking folder ../data/carrot\n",
      "checking folder ../data/strawberry\n",
      "checking folder ../data/radiator\n",
      "checking folder ../data/hat\n",
      "checking folder ../data/hamburger\n",
      "checking folder ../data/radio\n",
      "checking folder ../data/piano\n",
      "checking folder ../data/cat\n",
      "checking folder ../data/apple\n",
      "checking folder ../data/blackboard\n",
      "checking folder ../data/bath\n",
      "checking folder ../data/balloon\n",
      "checking folder ../data/pumpkin\n",
      "checking folder ../data/headphones\n",
      "checking folder ../data/vase\n",
      "checking folder ../data/soap\n",
      "checking folder ../data/hair\n",
      "checking folder ../data/cloud\n",
      "checking folder ../data/banana\n",
      "checking folder ../data/knife\n",
      "checking folder ../data/hammer\n",
      "checking folder ../data/mosquito\n",
      "checking folder ../data/screw\n",
      "checking folder ../data/house\n",
      "checking folder ../data/sock\n",
      "checking folder ../data/skateboard\n",
      "checking folder ../data/plate\n",
      "checking folder ../data/bus\n",
      "checking folder ../data/curtain\n",
      "checking folder ../data/ruler\n",
      "checking folder ../data/sofa\n",
      "checking folder ../data/bed\n",
      "checking folder ../data/face\n",
      "checking folder ../data/pen\n",
      "checking folder ../data/guitar\n",
      "checking folder ../data/necklace\n",
      "checking folder ../data/computer mouse\n",
      "checking folder ../data/bridge\n",
      "checking folder ../data/sculpture\n",
      "checking folder ../data/clock\n",
      "checking folder ../data/giraffe\n",
      "checking folder ../data/drill\n",
      "checking folder ../data/lip\n",
      "checking folder ../data/hairpin\n",
      "checking folder ../data/pear\n",
      "checking folder ../data/beach\n",
      "checking folder ../data/foot\n",
      "checking folder ../data/towel\n",
      "checking folder ../data/soccer\n",
      "checking folder ../data/paper\n",
      "checking folder ../data/bird\n",
      "checking folder ../data/box\n",
      "checking folder ../data/dog\n",
      "checking folder ../data/puzzle\n",
      "checking folder ../data/pineapple\n",
      "checking folder ../data/hairbrush\n",
      "checking folder ../data/umbrella\n",
      "checking folder ../data/pan\n",
      "checking folder ../data/basketball\n",
      "checking folder ../data/bread\n",
      "checking folder ../data/coin\n",
      "checking folder ../data/keyboard\n",
      "checking folder ../data/shower\n",
      "checking folder ../data/trousers\n",
      "checking folder ../data/handbag\n",
      "checking folder ../data/tree\n",
      "checking folder ../data/spoon\n",
      "checking folder ../data/calculator\n",
      "checking folder ../data/spaghetti\n",
      "checking folder ../data/television\n",
      "checking folder ../data/cauliflower\n",
      "checking folder ../data/book\n",
      "checking folder ../data/lettuce\n",
      "checking folder ../data/tennis\n",
      "checking folder ../data/microphone\n",
      "checking folder ../data/ring\n",
      "checking folder ../data/drums\n",
      "checking folder ../data/flower\n",
      "Finished. Removed 0 files, of which 0 had an invalid dimension, and 0 appeared to be not images.\n"
     ]
    }
   ],
   "source": [
    "clean_folder('../data', debug=True)"
   ]
  }
 ],
 "metadata": {
  "kernelspec": {
   "display_name": "Python 3",
   "language": "python",
   "name": "python3"
  },
  "language_info": {
   "codemirror_mode": {
    "name": "ipython",
    "version": 3
   },
   "file_extension": ".py",
   "mimetype": "text/x-python",
   "name": "python",
   "nbconvert_exporter": "python",
   "pygments_lexer": "ipython3",
   "version": "3.6.0"
  }
 },
 "nbformat": 4,
 "nbformat_minor": 2
}
