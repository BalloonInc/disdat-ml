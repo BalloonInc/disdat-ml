{
 "cells": [
  {
   "cell_type": "code",
   "execution_count": 1,
   "metadata": {},
   "outputs": [
    {
     "name": "stderr",
     "output_type": "stream",
     "text": [
      "Using TensorFlow backend.\n",
      "WARNING:root:Keras version 2.0.6 detected. Last version known to be fully compatible of Keras is 2.0.4 .\n",
      "WARNING:root:TensorFlow version 1.3.0-rc2 detected. Last version known to be fully compatible is 1.1.1 .\n"
     ]
    }
   ],
   "source": [
    "import os\n",
    "import glob\n",
    "\n",
    "from keras.applications.vgg16 import VGG16, preprocess_input\n",
    "from keras.preprocessing import image\n",
    "from keras.models import Model\n",
    "from keras.layers import Dense, GlobalAveragePooling2D\n",
    "from keras import backend as K\n",
    "from keras.preprocessing.image import ImageDataGenerator\n",
    "import keras.callbacks\n",
    "from keras.optimizers import SGD\n",
    "\n",
    "import coremltools"
   ]
  },
  {
   "cell_type": "code",
   "execution_count": 2,
   "metadata": {
    "collapsed": true
   },
   "outputs": [],
   "source": [
    "model = VGG16(weights='imagenet', include_top=True)"
   ]
  },
  {
   "cell_type": "markdown",
   "metadata": {},
   "source": [
    "Save the model"
   ]
  },
  {
   "cell_type": "code",
   "execution_count": 3,
   "metadata": {
    "collapsed": true
   },
   "outputs": [],
   "source": [
    "model.compile(optimizer='rmsprop', loss='categorical_crossentropy', metrics=['accuracy'])"
   ]
  },
  {
   "cell_type": "code",
   "execution_count": 10,
   "metadata": {},
   "outputs": [
    {
     "name": "stdout",
     "output_type": "stream",
     "text": [
      "0 : input_1, <keras.engine.topology.InputLayer object at 0x1054a9bd0>\n",
      "1 : block1_conv1, <keras.layers.convolutional.Conv2D object at 0x1054a9750>\n",
      "2 : block1_conv1__activation__, <keras.layers.core.Activation object at 0x105268190>\n",
      "3 : block1_conv2, <keras.layers.convolutional.Conv2D object at 0x1054a9cd0>\n",
      "4 : block1_conv2__activation__, <keras.layers.core.Activation object at 0x105268290>\n",
      "5 : block1_pool, <keras.layers.pooling.MaxPooling2D object at 0x112782590>\n",
      "6 : block2_conv1, <keras.layers.convolutional.Conv2D object at 0x112745c10>\n",
      "7 : block2_conv1__activation__, <keras.layers.core.Activation object at 0x11641c590>\n",
      "8 : block2_conv2, <keras.layers.convolutional.Conv2D object at 0x1127af990>\n",
      "9 : block2_conv2__activation__, <keras.layers.core.Activation object at 0x11641c3d0>\n",
      "10 : block2_pool, <keras.layers.pooling.MaxPooling2D object at 0x11276e8d0>\n",
      "11 : block3_conv1, <keras.layers.convolutional.Conv2D object at 0x1127e1550>\n",
      "12 : block3_conv1__activation__, <keras.layers.core.Activation object at 0x11641c550>\n",
      "13 : block3_conv2, <keras.layers.convolutional.Conv2D object at 0x11280e150>\n",
      "14 : block3_conv2__activation__, <keras.layers.core.Activation object at 0x11641c410>\n",
      "15 : block3_conv3, <keras.layers.convolutional.Conv2D object at 0x11284d6d0>\n",
      "16 : block3_conv3__activation__, <keras.layers.core.Activation object at 0x11641c390>\n",
      "17 : block3_pool, <keras.layers.pooling.MaxPooling2D object at 0x1128ab110>\n",
      "18 : block4_conv1, <keras.layers.convolutional.Conv2D object at 0x11289be50>\n",
      "19 : block4_conv1__activation__, <keras.layers.core.Activation object at 0x11641c4d0>\n",
      "20 : block4_conv2, <keras.layers.convolutional.Conv2D object at 0x1128cba90>\n",
      "21 : block4_conv2__activation__, <keras.layers.core.Activation object at 0x11641c790>\n",
      "22 : block4_conv3, <keras.layers.convolutional.Conv2D object at 0x1128f9990>\n",
      "23 : block4_conv3__activation__, <keras.layers.core.Activation object at 0x11641c710>\n",
      "24 : block4_pool, <keras.layers.pooling.MaxPooling2D object at 0x112968790>\n",
      "25 : block5_conv1, <keras.layers.convolutional.Conv2D object at 0x112959610>\n",
      "26 : block5_conv1__activation__, <keras.layers.core.Activation object at 0x11641cc10>\n",
      "27 : block5_conv2, <keras.layers.convolutional.Conv2D object at 0x11290add0>\n",
      "28 : block5_conv2__activation__, <keras.layers.core.Activation object at 0x11641cc90>\n",
      "29 : block5_conv3, <keras.layers.convolutional.Conv2D object at 0x1129d7fd0>\n",
      "30 : block5_conv3__activation__, <keras.layers.core.Activation object at 0x11641cdd0>\n",
      "31 : block5_pool, <keras.layers.pooling.MaxPooling2D object at 0x112a34b50>\n",
      "32 : flatten, <keras.layers.core.Flatten object at 0x112a19d90>\n",
      "33 : fc1, <keras.layers.core.Dense object at 0x112a941d0>\n",
      "34 : fc1__activation__, <keras.layers.core.Activation object at 0x11641ce10>\n",
      "35 : fc2, <keras.layers.core.Dense object at 0x112ad9f50>\n",
      "36 : fc2__activation__, <keras.layers.core.Activation object at 0x11641cd90>\n",
      "37 : predictions, <keras.layers.core.Dense object at 0x112ab06d0>\n",
      "38 : predictions__activation__, <keras.layers.core.Activation object at 0x11641cd50>\n"
     ]
    }
   ],
   "source": [
    "coreml_model  = coremltools.converters.keras.convert(model,\n",
    "                                                    image_input_names='image',\n",
    "                                                    class_labels='classes.txt',\n",
    "                                                    input_names=['image'],  \n",
    "                                                    #output_names=['probs'],  \n",
    "                                                    #predicted_feature_name='class',  \n",
    "                                                    red_bias=-123.68,\n",
    "                                                    green_bias=-116.78,\n",
    "                                                    blue_bias=-103.94\n",
    ")"
   ]
  },
  {
   "cell_type": "code",
   "execution_count": 11,
   "metadata": {
    "collapsed": true
   },
   "outputs": [],
   "source": [
    "coreml_model.save('vgg16keras.mlmodel')"
   ]
  }
 ],
 "metadata": {
  "kernelspec": {
   "display_name": "Python 2",
   "language": "python",
   "name": "python2"
  },
  "language_info": {
   "codemirror_mode": {
    "name": "ipython",
    "version": 2
   },
   "file_extension": ".py",
   "mimetype": "text/x-python",
   "name": "python",
   "nbconvert_exporter": "python",
   "pygments_lexer": "ipython2",
   "version": "2.7.10"
  }
 },
 "nbformat": 4,
 "nbformat_minor": 2
}
